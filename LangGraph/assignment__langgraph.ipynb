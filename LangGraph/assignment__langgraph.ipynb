{
 "cells": [
  {
   "cell_type": "code",
   "execution_count": 1,
   "id": "b0505359",
   "metadata": {},
   "outputs": [],
   "source": [
    "from langchain_huggingface import HuggingFaceEmbeddings\n",
    "from langchain_community.vectorstores import Chroma\n",
    "from langchain_core.documents import Document  # for proper document format\n",
    "\n",
    "from langchain.output_parsers import PydanticOutputParser\n",
    "from langchain_core.messages import BaseMessage\n",
    "from pydantic import BaseModel , Field\n",
    "\n",
    "from langchain_core.runnables import RunnablePassthrough\n",
    "from langchain_core.messages import HumanMessage, AIMessage\n",
    "from langchain_core.output_parsers import StrOutputParser\n",
    "\n",
    "from langchain_core.prompts import ChatPromptTemplate, PromptTemplate\n",
    "from typing import TypedDict, Annotated, Sequence\n",
    "from langgraph.graph import StateGraph,END\n",
    "from typing import List\n",
    "import operator\n",
    "\n"
   ]
  },
  {
   "cell_type": "code",
   "execution_count": 2,
   "id": "bbd364bc",
   "metadata": {},
   "outputs": [],
   "source": [
    "import os\n",
    "from dotenv import load_dotenv\n",
    "\n",
    "os.environ['GOOGLE_API_KEY']=os.getenv(\"GOOGLE_API_KEY\")\n",
    "load_dotenv()\n",
    "\n",
    "from langchain_google_genai import ChatGoogleGenerativeAI\n",
    "llm_model = ChatGoogleGenerativeAI(model='gemini-1.5-flash')"
   ]
  },
  {
   "cell_type": "code",
   "execution_count": 6,
   "id": "64ed0522",
   "metadata": {},
   "outputs": [],
   "source": [
    "from langchain_huggingface import HuggingFaceEmbeddings\n",
    "from langchain_community.vectorstores import Chroma\n",
    "from langchain_core.documents import Document\n",
    "\n",
    "# 1. Create the embedding model\n",
    "embeddings = HuggingFaceEmbeddings(model_name='all-MiniLM-L6-v2')\n",
    "\n",
    "# 2. Load your documents\n",
    "documents = [Document(page_content=\"This is a tutorial on OpenAI embeddings\")]\n",
    "\n",
    "# 3. Create the vectorstore\n",
    "vectorstore = Chroma.from_documents(documents, embedding=embeddings)\n",
    "\n",
    "# 4. Get retriever to use in RAG\n",
    "retriever = vectorstore.as_retriever(search_kwargs={\"k\": 3})\n"
   ]
  },
  {
   "cell_type": "code",
   "execution_count": 7,
   "id": "553ce7ac",
   "metadata": {},
   "outputs": [
    {
     "data": {
      "text/plain": [
       "'The output should be formatted as a JSON instance that conforms to the JSON schema below.\\n\\nAs an example, for the schema {\"properties\": {\"foo\": {\"title\": \"Foo\", \"description\": \"a list of strings\", \"type\": \"array\", \"items\": {\"type\": \"string\"}}}, \"required\": [\"foo\"]}\\nthe object {\"foo\": [\"bar\", \"baz\"]} is a well-formatted instance of the schema. The object {\"properties\": {\"foo\": [\"bar\", \"baz\"]}} is not well-formatted.\\n\\nHere is the output schema:\\n```\\n{\"description\": \"Parser for topic selection output.\\\\nThis parser extracts the selected topic and reasoning from the model\\'s response.\", \"properties\": {\"Topic\": {\"description\": \"selected topic\", \"title\": \"Topic\", \"type\": \"string\"}, \"Reasoning\": {\"description\": \"Reasoning behind topic selection\", \"title\": \"Reasoning\", \"type\": \"string\"}}, \"required\": [\"Topic\", \"Reasoning\"]}\\n```'"
      ]
     },
     "execution_count": 7,
     "metadata": {},
     "output_type": "execute_result"
    }
   ],
   "source": [
    "class TopicSelectionParser(BaseModel):\n",
    "    '''Parser for topic selection output.\n",
    "    This parser extracts the selected topic and reasoning from the model's response.'''\n",
    "    \n",
    "    Topic:str=Field(description=\"selected topic\")\n",
    "    Reasoning:str=Field(description='Reasoning behind topic selection')\n",
    "\n",
    "\n",
    "parser=PydanticOutputParser(pydantic_object=TopicSelectionParser)\n",
    "parser.get_format_instructions()"
   ]
  },
  {
   "cell_type": "code",
   "execution_count": 8,
   "id": "434541a7",
   "metadata": {},
   "outputs": [],
   "source": [
    "def format_docs(docs):\n",
    "    '''Format the documents for output.'''\n",
    "    return \"\\n\\n\".join(doc.page_content for doc in docs)"
   ]
  },
  {
   "cell_type": "code",
   "execution_count": 9,
   "id": "fbf4e707",
   "metadata": {},
   "outputs": [],
   "source": [
    "class AgentState(TypedDict):\n",
    "    ''' State of the agent, including messages and current question. '''\n",
    "    messages: List[str]\n",
    "    current_question: str\n"
   ]
  },
  {
   "cell_type": "code",
   "execution_count": 10,
   "id": "2f2ac71e",
   "metadata": {},
   "outputs": [],
   "source": [
    "def Supervisor(state: AgentState):\n",
    "    ''' Supervisor function to classify user questions into appropriate tools.\n",
    "    Args:\n",
    "        state (AgentState): The current state containing messages and the current question. '''\n",
    "\n",
    "\n",
    "    messages = state.get(\"messages\", [])\n",
    "    if not messages:\n",
    "        raise ValueError(\"No messages found in state for Supervisor.\")\n",
    "\n",
    "    question = messages[-1]\n",
    "    print(\"📥 Supervisor received:\", question)\n",
    "\n",
    "    template = \"\"\"\n",
    "    You are an intelligent router. Your job is to classify the given user question into one of the following tools:\n",
    "    - \"LLM Call\": For general or reasoning-based questions.\n",
    "    - \"RAG Call\": For document-specific or internal knowledge base questions.\n",
    "    - \"DuckDuckGo Search\": For questions requiring real-time or external information (e.g., weather, news, events).\n",
    "\n",
    "    Based on the question, select the most appropriate tool and respond with the tool name using simple Python if-else logic.\n",
    "    Respond ONLY in valid JSON format \n",
    "\n",
    "    Question: {question}\n",
    "    {format_instructions}\n",
    "    \"\"\"\n",
    "\n",
    "    prompt = PromptTemplate(\n",
    "        template=template,\n",
    "        input_variables=[\"question\"],\n",
    "        partial_variables={\"format_instructions\": parser.get_format_instructions()}\n",
    "    )\n",
    "\n",
    "    chain = prompt | llm_model | parser\n",
    "    response = chain.invoke({\"question\": question})\n",
    "\n",
    "    print(\"🧭 Parsed response:\", response)\n",
    "\n",
    "    topic = response.get(\"Topic\") if isinstance(response, dict) else getattr(response, \"Topic\", None)\n",
    "\n",
    "    return {\n",
    "        \"messages\": messages + [topic],\n",
    "        \"current_question\": question\n",
    "    }\n"
   ]
  },
  {
   "cell_type": "code",
   "execution_count": 11,
   "id": "4db5a53c",
   "metadata": {},
   "outputs": [],
   "source": [
    "def Router(state: AgentState):\n",
    "    '''   Router function to determine the appropriate tool based on the current question.'''\n",
    "\n",
    "    question = state[\"current_question\"].lower()\n",
    "    \n",
    "    if any(x in question for x in [\"real-time\", \"latest\", \"news\", \"today\", \"current\"]):\n",
    "        return \"Web Crawler\"\n",
    "    elif \"document\" in question or \"report\" in question:\n",
    "        return \"RAG Call\"\n",
    "    else:\n",
    "        return \"LLM Call\"\n"
   ]
  },
  {
   "cell_type": "code",
   "execution_count": 12,
   "id": "056126ea",
   "metadata": {},
   "outputs": [],
   "source": [
    "def LLM(state: AgentState):\n",
    "    ''' Handles general questions using the LLM. '''\n",
    " \n",
    "    llm = ChatGoogleGenerativeAI(model='gemini-1.5-flash')\n",
    "    \n",
    "    question = state[\"current_question\"]\n",
    "    response = llm.invoke(question)\n",
    "\n",
    "    return {\n",
    "        \"messages\": state[\"messages\"] + [response.content],\n",
    "        \"current_question\": None\n",
    "    }\n"
   ]
  },
  {
   "cell_type": "code",
   "execution_count": 13,
   "id": "38bc5b1d",
   "metadata": {},
   "outputs": [],
   "source": [
    "def RAG(state:AgentState):\n",
    "    ''' Function to handle RAG (Retrieval-Augmented Generation) calls.\n",
    "    This function retrieves relevant documents based on the current question,'''\n",
    "    \n",
    "    print(\"-> RAG Call ->\")\n",
    "    \n",
    "    question = state[\"current_question\"]\n",
    "    \n",
    "    prompt=PromptTemplate(\n",
    "        template=\"\"\"You are an assistant for question-answering tasks. Use the following pieces of retrieved context to answer the question. If you don't know the answer, just say that you don't know. Use three sentences maximum and keep the answer concise.\\nQuestion: {question} \\nContext: {context} \\nAnswer:\"\"\",\n",
    "        \n",
    "        input_variables=['context', 'question']\n",
    "    )\n",
    "    \n",
    "    rag_chain = (\n",
    "        {\"context\": retriever | format_docs, \"question\": RunnablePassthrough()}\n",
    "        | prompt\n",
    "        | llm_model\n",
    "        | StrOutputParser()\n",
    "    )\n",
    "    result = rag_chain.invoke(question)\n",
    "    return  {\n",
    "        \"messages\": state[\"messages\"] + [result],\n",
    "        \"current_question\": None\n",
    "    }"
   ]
  },
  {
   "cell_type": "code",
   "execution_count": 14,
   "id": "79b8bef6",
   "metadata": {},
   "outputs": [],
   "source": [
    "def WebCrawler(state: AgentState):\n",
    "    import duckduckgo_search\n",
    "    query = state[\"current_question\"]\n",
    "    results = duckduckgo_search.DDGS().text(query, max_results=1)\n",
    "    answer = results[0]['body'] if results else \"No relevant result found.\"\n",
    "    \n",
    "    return {\n",
    "        \"messages\": state[\"messages\"] + [answer],\n",
    "        \"current_question\": None\n",
    "    }\n"
   ]
  },
  {
   "cell_type": "code",
   "execution_count": 15,
   "id": "c5a8a64e",
   "metadata": {},
   "outputs": [],
   "source": [
    "def validate_response(state: AgentState):\n",
    "    response = state[\"messages\"][-1]\n",
    "    print(\"🔍 Validating response:\", response)\n",
    "\n",
    "    if response and isinstance(response, str) and len(response.split()) > 10:\n",
    "        return {**state, \"validation_passed\": True}\n",
    "    else:\n",
    "        return {**state, \"validation_passed\": False}\n"
   ]
  },
  {
   "cell_type": "code",
   "execution_count": 16,
   "id": "f518edc7",
   "metadata": {},
   "outputs": [],
   "source": [
    "def final_output(state: AgentState):\n",
    "    print(\"✅ Final Output Node Reached\")\n",
    "    print(\"📦 Output Messages:\", state.get(\"messages\"))\n",
    "    return state\n",
    "\n"
   ]
  },
  {
   "cell_type": "code",
   "execution_count": 17,
   "id": "68667a75",
   "metadata": {},
   "outputs": [],
   "source": [
    "from langgraph.graph import StateGraph, END\n",
    "\n",
    "workflow = StateGraph(AgentState)\n",
    "\n",
    "workflow.set_entry_point(\"Supervisor\")\n",
    "\n",
    "# Nodes\n",
    "workflow.add_node(\"Supervisor\", Supervisor)\n",
    "workflow.add_node(\"LLM\", LLM)\n",
    "workflow.add_node(\"RAG\", RAG)\n",
    "workflow.add_node(\"Web Crawler\", WebCrawler)\n",
    "workflow.add_node(\"Validate\", validate_response)\n",
    "workflow.add_node(\"Final Output\", final_output)\n",
    "\n",
    "# Router logic\n",
    "workflow.add_conditional_edges(\n",
    "    \"Supervisor\",\n",
    "    Router,\n",
    "    {\n",
    "        \"LLM Call\": \"LLM\",\n",
    "        \"RAG Call\": \"RAG\",\n",
    "        \"Web Crawler\": \"Web Crawler\"\n",
    "    }\n",
    ")\n",
    "\n",
    "# Post-processing validation\n",
    "workflow.add_edge(\"LLM\", \"Validate\")\n",
    "workflow.add_edge(\"RAG\", \"Validate\")\n",
    "workflow.add_edge(\"Web Crawler\", \"Validate\")\n",
    "\n",
    "# Validation routing\n",
    "def validation_router(state: dict):\n",
    "    return \"Final Output\" if state.get(\"validation_passed\") else \"Supervisor\"\n",
    "\n",
    "workflow.add_conditional_edges(\n",
    "    \"Validate\",\n",
    "    validation_router,\n",
    "    {\n",
    "        \"Final Output\": \"Final Output\",\n",
    "        \"Supervisor\": \"Supervisor\"\n",
    "    }\n",
    ")\n",
    "\n",
    "workflow.add_edge(\"Final Output\", END)\n",
    "\n",
    "app = workflow.compile()\n"
   ]
  },
  {
   "cell_type": "markdown",
   "id": "975df0d3",
   "metadata": {},
   "source": [
    "##### 🧠 LLM Call (general reasoning)"
   ]
  },
  {
   "cell_type": "code",
   "execution_count": 18,
   "id": "94b135ff",
   "metadata": {},
   "outputs": [
    {
     "name": "stdout",
     "output_type": "stream",
     "text": [
      "📥 Supervisor received: What is the best OpenAI embedding model?\n",
      "🧭 Parsed response: Topic='LLM Call' Reasoning='The question requires general knowledge and opinion about OpenAI embedding models, which is best answered by a large language model.'\n",
      "🔍 Validating response: There isn't a single \"best\" OpenAI embedding model, as the optimal choice depends heavily on your specific needs and priorities.  Different models offer different trade-offs between accuracy, speed, and cost.  OpenAI's offerings evolve, so what's considered best might change over time.\n",
      "\n",
      "However, as of October 26, 2023,  `text-embedding-ada-002` is often cited as a good general-purpose choice. It strikes a reasonable balance between cost-effectiveness and accuracy for many applications.\n",
      "\n",
      "Here's a breakdown of considerations to help you choose:\n",
      "\n",
      "* **`text-embedding-ada-002`:** This is the most commonly recommended model. It's a good all-arounder, offering a balance of speed, cost, and accuracy.  It's often the default choice for many users.\n",
      "\n",
      "* **Other Models (potentially deprecated or superseded):** OpenAI may have older models.  These are generally less efficient or accurate than newer ones, so sticking with the current recommendations is usually advised.  Check the OpenAI documentation for the most up-to-date information on available models.\n",
      "\n",
      "**Factors to consider when choosing:**\n",
      "\n",
      "* **Accuracy:** How important is it that the embeddings accurately reflect semantic similarity?  More expensive models often provide higher accuracy.\n",
      "* **Speed:** How quickly do you need embeddings generated?  Faster models may come at a higher cost.\n",
      "* **Cost:**  Embedding generation costs money.  Consider the scale of your application. `text-embedding-ada-002` is generally cost-effective.\n",
      "* **Context Length:** How long are the texts you need to embed?  Some models might have limitations on the length of input text.\n",
      "\n",
      "**In short:** Start with `text-embedding-ada-002`.  If you find its accuracy insufficient for your specific task (e.g., highly nuanced semantic comparisons), then you might explore other options (if available and relevant at the time) or consider fine-tuning a model.  Always consult the official OpenAI documentation for the most current information on available models and their performance characteristics.\n",
      "✅ Final Output Node Reached\n",
      "📦 Output Messages: ['What is the best OpenAI embedding model?', 'LLM Call', 'There isn\\'t a single \"best\" OpenAI embedding model, as the optimal choice depends heavily on your specific needs and priorities.  Different models offer different trade-offs between accuracy, speed, and cost.  OpenAI\\'s offerings evolve, so what\\'s considered best might change over time.\\n\\nHowever, as of October 26, 2023,  `text-embedding-ada-002` is often cited as a good general-purpose choice. It strikes a reasonable balance between cost-effectiveness and accuracy for many applications.\\n\\nHere\\'s a breakdown of considerations to help you choose:\\n\\n* **`text-embedding-ada-002`:** This is the most commonly recommended model. It\\'s a good all-arounder, offering a balance of speed, cost, and accuracy.  It\\'s often the default choice for many users.\\n\\n* **Other Models (potentially deprecated or superseded):** OpenAI may have older models.  These are generally less efficient or accurate than newer ones, so sticking with the current recommendations is usually advised.  Check the OpenAI documentation for the most up-to-date information on available models.\\n\\n**Factors to consider when choosing:**\\n\\n* **Accuracy:** How important is it that the embeddings accurately reflect semantic similarity?  More expensive models often provide higher accuracy.\\n* **Speed:** How quickly do you need embeddings generated?  Faster models may come at a higher cost.\\n* **Cost:**  Embedding generation costs money.  Consider the scale of your application. `text-embedding-ada-002` is generally cost-effective.\\n* **Context Length:** How long are the texts you need to embed?  Some models might have limitations on the length of input text.\\n\\n**In short:** Start with `text-embedding-ada-002`.  If you find its accuracy insufficient for your specific task (e.g., highly nuanced semantic comparisons), then you might explore other options (if available and relevant at the time) or consider fine-tuning a model.  Always consult the official OpenAI documentation for the most current information on available models and their performance characteristics.']\n",
      "🎯 Final Result: There isn't a single \"best\" OpenAI embedding model, as the optimal choice depends heavily on your specific needs and priorities.  Different models offer different trade-offs between accuracy, speed, and cost.  OpenAI's offerings evolve, so what's considered best might change over time.\n",
      "\n",
      "However, as of October 26, 2023,  `text-embedding-ada-002` is often cited as a good general-purpose choice. It strikes a reasonable balance between cost-effectiveness and accuracy for many applications.\n",
      "\n",
      "Here's a breakdown of considerations to help you choose:\n",
      "\n",
      "* **`text-embedding-ada-002`:** This is the most commonly recommended model. It's a good all-arounder, offering a balance of speed, cost, and accuracy.  It's often the default choice for many users.\n",
      "\n",
      "* **Other Models (potentially deprecated or superseded):** OpenAI may have older models.  These are generally less efficient or accurate than newer ones, so sticking with the current recommendations is usually advised.  Check the OpenAI documentation for the most up-to-date information on available models.\n",
      "\n",
      "**Factors to consider when choosing:**\n",
      "\n",
      "* **Accuracy:** How important is it that the embeddings accurately reflect semantic similarity?  More expensive models often provide higher accuracy.\n",
      "* **Speed:** How quickly do you need embeddings generated?  Faster models may come at a higher cost.\n",
      "* **Cost:**  Embedding generation costs money.  Consider the scale of your application. `text-embedding-ada-002` is generally cost-effective.\n",
      "* **Context Length:** How long are the texts you need to embed?  Some models might have limitations on the length of input text.\n",
      "\n",
      "**In short:** Start with `text-embedding-ada-002`.  If you find its accuracy insufficient for your specific task (e.g., highly nuanced semantic comparisons), then you might explore other options (if available and relevant at the time) or consider fine-tuning a model.  Always consult the official OpenAI documentation for the most current information on available models and their performance characteristics.\n"
     ]
    }
   ],
   "source": [
    "state = {\n",
    "    \"messages\": [\"What is the best OpenAI embedding model?\"],\n",
    "    \"current_question\": \"What is the best OpenAI embedding model?\"\n",
    "}\n",
    "\n",
    "result = app.invoke(state)\n",
    "print(\"🎯 Final Result:\", result[\"messages\"][-1])\n"
   ]
  },
  {
   "cell_type": "markdown",
   "id": "da08e63c",
   "metadata": {},
   "source": [
    " ##### RAG Call (internal/doc-based)"
   ]
  },
  {
   "cell_type": "code",
   "execution_count": 19,
   "id": "8cd284c7",
   "metadata": {},
   "outputs": [],
   "source": [
    "state = {\n",
    "    \"messages\": [\"Can you summarize this document about OpenAI embeddings?\"],\n",
    "    \"current_question\": \"Can you summarize this document about OpenAI embeddings?\"\n",
    "}"
   ]
  },
  {
   "cell_type": "code",
   "execution_count": 20,
   "id": "897bed40",
   "metadata": {},
   "outputs": [
    {
     "name": "stdout",
     "output_type": "stream",
     "text": [
      "📥 Supervisor received: Can you summarize this document about OpenAI embeddings?\n",
      "🧭 Parsed response: Topic='RAG Call' Reasoning='The question explicitly mentions summarizing a provided document, indicating the need to access and process the content of that document. This is a task best suited for a RAG (Retrieval Augmented Generation) system.'\n",
      "-> RAG Call ->\n",
      "🔍 Validating response: This document is a tutorial explaining OpenAI embeddings.  It teaches how to use them.  No further details on the tutorial's specific content are provided.\n",
      "✅ Final Output Node Reached\n",
      "📦 Output Messages: ['Can you summarize this document about OpenAI embeddings?', 'RAG Call', \"This document is a tutorial explaining OpenAI embeddings.  It teaches how to use them.  No further details on the tutorial's specific content are provided.\"]\n",
      "🎯 Final Result: ['Can you summarize this document about OpenAI embeddings?', 'RAG Call', \"This document is a tutorial explaining OpenAI embeddings.  It teaches how to use them.  No further details on the tutorial's specific content are provided.\"]\n"
     ]
    }
   ],
   "source": [
    "result = app.invoke(state)\n",
    "print(\"🎯 Final Result:\", result[\"messages\"])"
   ]
  },
  {
   "cell_type": "markdown",
   "id": "922c1dd6",
   "metadata": {},
   "source": [
    "##### DuckDuckGo Search (real-time info) "
   ]
  },
  {
   "cell_type": "code",
   "execution_count": 21,
   "id": "7438aec5",
   "metadata": {},
   "outputs": [],
   "source": [
    "state = {\n",
    "    \"messages\": [\"What is the current weather in Delhi?\"],\n",
    "    \"current_question\": \"What is the current weather in Delhi?\"\n",
    "}"
   ]
  },
  {
   "cell_type": "code",
   "execution_count": 22,
   "id": "8415f58e",
   "metadata": {},
   "outputs": [
    {
     "name": "stdout",
     "output_type": "stream",
     "text": [
      "📥 Supervisor received: What is the current weather in Delhi?\n",
      "🧭 Parsed response: Topic='DuckDuckGo Search' Reasoning='The question requires real-time information about the current weather in Delhi, which necessitates an external search engine like DuckDuckGo.'\n",
      "🔍 Validating response: Current weather in Delhi, Delhi, India. Check current conditions in Delhi, Delhi, India with radar, hourly, and more.\n",
      "✅ Final Output Node Reached\n",
      "📦 Output Messages: ['What is the current weather in Delhi?', 'DuckDuckGo Search', 'Current weather in Delhi, Delhi, India. Check current conditions in Delhi, Delhi, India with radar, hourly, and more.']\n",
      "🎯 Final Result: Current weather in Delhi, Delhi, India. Check current conditions in Delhi, Delhi, India with radar, hourly, and more.\n"
     ]
    }
   ],
   "source": [
    "result = app.invoke(state)\n",
    "print(\"🎯 Final Result:\", result[\"messages\"][-1])"
   ]
  },
  {
   "cell_type": "code",
   "execution_count": 25,
   "id": "d06716e5",
   "metadata": {},
   "outputs": [
    {
     "name": "stdout",
     "output_type": "stream",
     "text": [
      "📥 Supervisor received: India latest flight crash news?\n",
      "🧭 Parsed response: Topic='DuckDuckGo Search' Reasoning='The question asks for real-time information (latest news) which requires accessing an external information source like DuckDuckGo Search.'\n",
      "🔍 Validating response: Ahmedabad Plane Crash Updates:Investigators recovered the black box of the ill-fated Air India Boeing 787-8 Dreamliner (AI171) from the rooftop of a medical college hostel, a day after it crashed in Ahmedabad, killing 241 of the 242 on board. The Aircraft Accident Investigation Bureau confirmed the retrieval of the Digital Flight Data Recorder, key to understanding the crash.\n",
      "✅ Final Output Node Reached\n",
      "📦 Output Messages: ['India latest flight crash news?', 'DuckDuckGo Search', 'Ahmedabad Plane Crash Updates:Investigators recovered the black box of the ill-fated Air India Boeing 787-8 Dreamliner (AI171) from the rooftop of a medical college hostel, a day after it crashed in Ahmedabad, killing 241 of the 242 on board. The Aircraft Accident Investigation Bureau confirmed the retrieval of the Digital Flight Data Recorder, key to understanding the crash.']\n",
      "🌐 Web Crawler Result: Ahmedabad Plane Crash Updates:Investigators recovered the black box of the ill-fated Air India Boeing 787-8 Dreamliner (AI171) from the rooftop of a medical college hostel, a day after it crashed in Ahmedabad, killing 241 of the 242 on board. The Aircraft Accident Investigation Bureau confirmed the retrieval of the Digital Flight Data Recorder, key to understanding the crash.\n"
     ]
    }
   ],
   "source": [
    "# To test Web Crawler\n",
    "state_web = {\n",
    "    \"messages\": [\"India latest flight crash news?\"],\n",
    "    \"current_question\": \"In India latest flight cras news?\"\n",
    "}\n",
    "result_web = app.invoke(state_web)\n",
    "print(\"🌐 Web Crawler Result:\", result_web[\"messages\"][-1])"
   ]
  },
  {
   "cell_type": "code",
   "execution_count": 26,
   "id": "f9057260",
   "metadata": {},
   "outputs": [
    {
     "data": {
      "image/png": "[encoded data removed]",
      "text/plain": [
       "<IPython.core.display.Image object>"
      ]
     },
     "metadata": {},
     "output_type": "display_data"
    }
   ],
   "source": [
    "from IPython.display import display,Image\n",
    "display(Image(app.get_graph().draw_mermaid_png()))"
   ]
  }
 ],
 "metadata": {
  "kernelspec": {
   "display_name": "venv",
   "language": "python",
   "name": "python3"
  },
  "language_info": {
   "codemirror_mode": {
    "name": "ipython",
    "version": 3
   },
   "file_extension": ".py",
   "mimetype": "text/x-python",
   "name": "python",
   "nbconvert_exporter": "python",
   "pygments_lexer": "ipython3",
   "version": "3.12.0"
  }
 },
 "nbformat": 4,
 "nbformat_minor": 5
}
